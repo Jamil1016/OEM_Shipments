{
 "cells": [
  {
   "cell_type": "code",
   "execution_count": null,
   "id": "b06535ae",
   "metadata": {},
   "outputs": [
    {
     "name": "stderr",
     "output_type": "stream",
     "text": [
      "C:\\Users\\E1460340\\AppData\\Local\\Temp\\ipykernel_33472\\994786134.py:25: FutureWarning: The behavior of DataFrame concatenation with empty or all-NA entries is deprecated. In a future version, this will no longer exclude empty or all-NA columns when determining the result dtypes. To retain the old behavior, exclude the relevant entries before the concat operation.\n",
      "  orders_forecast_df = pd.concat([orders_df,forecast_df],ignore_index=True)\n"
     ]
    }
   ],
   "source": [
    "from pathlib import Path\n",
    "import pandas as pd\n",
    "\n",
    "data_path = Path(input('Input the folder path:').replace('\\\\','/'))\n",
    "\n",
    "for i in data_path.glob('*Segment.xlsx'):\n",
    "    segment_lookup = pd.read_excel(i)\n",
    "\n",
    "for i in data_path.glob('*.csv'):\n",
    "    if i.name.__contains__(\"Backlog\"):\n",
    "        backlog_df = pd.read_csv(i ,low_memory= False)\n",
    "    elif i.name.__contains__(\"Open\"):\n",
    "        orders_df = pd.read_csv(i ,low_memory= False)\n",
    "    elif i.name.__contains__(\"Forecast\"):\n",
    "        forecast_df = pd.read_csv(i ,header= None ,low_memory= False)\n",
    "        forecast_df.drop(index=0, axis= 'rows',inplace= True)\n",
    "    else:\n",
    "        pass\n",
    "\n",
    "\n",
    "# Open Orders and Forcast Dataset\n",
    "\n",
    "    ## Combining the two files ['Open Order Report - Bookings (49 columns) D11 to D21','Forecast Order History (49 columns) - D11 to D21'].\n",
    "forecast_df.columns = list(orders_df.columns)\n",
    "orders_forecast_df = pd.concat([orders_df,forecast_df],ignore_index=True)\n",
    "\n",
    "    ## Adding mmm-yy in Filler column referencing 'schedule ship date'.\n",
    "orders_forecast_df['Filler'] = pd.to_datetime(orders_forecast_df['schedule ship date'], format= '%m/%d/%y').dt.strftime('%b-%y').str.upper().apply(lambda x: f'=\"{x}\"')\n",
    "\n",
    "    ## Adding column for segment.\n",
    "orders_forecast_df = orders_forecast_df.merge(right=segment_lookup, how= 'left', on= ['ect_region','application_code'])\n",
    "orders_forecast_df.loc[orders_forecast_df['customer_type'] == 'Internal' ,'Segment'] = 'Intercompany'\n",
    "\n",
    "# Shipment Dataset\n",
    "\n",
    "    ## Replacing the column name 'World Area' to 'ect_region'.\n",
    "backlog_df.rename(columns= {'World Area':'ect_region'},inplace= True)\n",
    "\n",
    "    ## Adding column for segment.\n",
    "backlog_df = backlog_df.merge(right=segment_lookup, how= 'left', on= ['ect_region','application_code'])\n",
    "backlog_df.loc[backlog_df['customer_type'] == 'Internal' ,'Segment'] = 'Intercompany'\n",
    "\n",
    "backlog_df.to_csv(data_path / '0_Clean_Shipments.csv',index= False)\n",
    "orders_forecast_df.to_csv(data_path /'0_Clean_Orders and Forecast.csv',index= False)\n"
   ]
  }
 ],
 "metadata": {
  "kernelspec": {
   "display_name": "Python 3",
   "language": "python",
   "name": "python3"
  },
  "language_info": {
   "codemirror_mode": {
    "name": "ipython",
    "version": 3
   },
   "file_extension": ".py",
   "mimetype": "text/x-python",
   "name": "python",
   "nbconvert_exporter": "python",
   "pygments_lexer": "ipython3",
   "version": "3.12.5"
  }
 },
 "nbformat": 4,
 "nbformat_minor": 5
}
